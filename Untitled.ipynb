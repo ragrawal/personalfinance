{
 "cells": [
  {
   "cell_type": "code",
   "execution_count": 1,
   "metadata": {},
   "outputs": [
    {
     "name": "stderr",
     "output_type": "stream",
     "text": [
      "/Users/riteshagrawal/Documents/finance/helper.py:14: YAMLLoadWarning: calling yaml.load() without Loader=... is deprecated, as the default Loader is unsafe. Please read https://msg.pyyaml.org/load for full details.\n",
      "  CONFIG = yaml.load(fp)\n"
     ]
    }
   ],
   "source": [
    "from sklearn_pandas import DataFrameMapper\n",
    "from sklearn.feature_extraction.text import TfidfVectorizer\n",
    "import yaml\n",
    "import pandas as pd\n",
    "from baikal import Step, Model, make_step, Input\n",
    "from model_helper import *\n",
    "import helper\n",
    "import os\n",
    "from datetime import datetime, timedelta\n",
    "os.environ['GSPREAD_PANDAS_CONFIG_DIR'] = '.'\n",
    "\n",
    "import pandas as pd\n",
    "from tqdm import tqdm \n",
    "from gspread_pandas import Spread, Client\n",
    "\n"
   ]
  },
  {
   "cell_type": "markdown",
   "metadata": {},
   "source": [
    "# Download Data"
   ]
  },
  {
   "cell_type": "code",
   "execution_count": 2,
   "metadata": {},
   "outputs": [],
   "source": [
    "workbook = Spread(helper.CONFIG['sheets']['workbook'])\n",
    "df = workbook.sheet_to_df(sheet=helper.CONFIG['sheets']['transactions'])\n"
   ]
  },
  {
   "cell_type": "code",
   "execution_count": 17,
   "metadata": {},
   "outputs": [
    {
     "data": {
      "text/html": [
       "<div>\n",
       "<style scoped>\n",
       "    .dataframe tbody tr th:only-of-type {\n",
       "        vertical-align: middle;\n",
       "    }\n",
       "\n",
       "    .dataframe tbody tr th {\n",
       "        vertical-align: top;\n",
       "    }\n",
       "\n",
       "    .dataframe thead th {\n",
       "        text-align: right;\n",
       "    }\n",
       "</style>\n",
       "<table border=\"1\" class=\"dataframe\">\n",
       "  <thead>\n",
       "    <tr style=\"text-align: right;\">\n",
       "      <th></th>\n",
       "      <th>date</th>\n",
       "      <th>institution</th>\n",
       "      <th>account</th>\n",
       "      <th>merchant</th>\n",
       "      <th>name</th>\n",
       "      <th>amount</th>\n",
       "      <th>category</th>\n",
       "      <th>Notes</th>\n",
       "    </tr>\n",
       "    <tr>\n",
       "      <th>id</th>\n",
       "      <th></th>\n",
       "      <th></th>\n",
       "      <th></th>\n",
       "      <th></th>\n",
       "      <th></th>\n",
       "      <th></th>\n",
       "      <th></th>\n",
       "      <th></th>\n",
       "    </tr>\n",
       "  </thead>\n",
       "  <tbody>\n",
       "    <tr>\n",
       "      <th>a5NZR57XqzsZKr4v4Yp8TaZgK5DoOgSZBJqVP</th>\n",
       "      <td>2020-12-29</td>\n",
       "      <td></td>\n",
       "      <td>BROKERAGE *</td>\n",
       "      <td></td>\n",
       "      <td>Shrt Trm Gain VANGUARD TOTAL BOND ETF MARKET 1...</td>\n",
       "      <td>-0.41</td>\n",
       "      <td>Dividend Earning</td>\n",
       "      <td></td>\n",
       "    </tr>\n",
       "    <tr>\n",
       "      <th>4MqyzzxYRoT13Pon6QaPsaZyRjggrpSkLK8dR</th>\n",
       "      <td>2020-11-01</td>\n",
       "      <td></td>\n",
       "      <td>Savings account</td>\n",
       "      <td></td>\n",
       "      <td>Interest Paid</td>\n",
       "      <td>-58.42</td>\n",
       "      <td>Interest</td>\n",
       "      <td></td>\n",
       "    </tr>\n",
       "    <tr>\n",
       "      <th>5zQMLz1e7phrVm9Q9AJKheARMYV96QUBZ5kPv</th>\n",
       "      <td>2020-11-25</td>\n",
       "      <td></td>\n",
       "      <td>SAVINGS</td>\n",
       "      <td></td>\n",
       "      <td>CITIBANK, N.A. DEPOSIT 201124 340283588661077 ...</td>\n",
       "      <td>50000.00</td>\n",
       "      <td>Transfer</td>\n",
       "      <td></td>\n",
       "    </tr>\n",
       "  </tbody>\n",
       "</table>\n",
       "</div>"
      ],
      "text/plain": [
       "                                             date institution  \\\n",
       "id                                                              \n",
       "a5NZR57XqzsZKr4v4Yp8TaZgK5DoOgSZBJqVP  2020-12-29               \n",
       "4MqyzzxYRoT13Pon6QaPsaZyRjggrpSkLK8dR  2020-11-01               \n",
       "5zQMLz1e7phrVm9Q9AJKheARMYV96QUBZ5kPv  2020-11-25               \n",
       "\n",
       "                                               account merchant  \\\n",
       "id                                                                \n",
       "a5NZR57XqzsZKr4v4Yp8TaZgK5DoOgSZBJqVP      BROKERAGE *            \n",
       "4MqyzzxYRoT13Pon6QaPsaZyRjggrpSkLK8dR  Savings account            \n",
       "5zQMLz1e7phrVm9Q9AJKheARMYV96QUBZ5kPv          SAVINGS            \n",
       "\n",
       "                                                                                    name  \\\n",
       "id                                                                                         \n",
       "a5NZR57XqzsZKr4v4Yp8TaZgK5DoOgSZBJqVP  Shrt Trm Gain VANGUARD TOTAL BOND ETF MARKET 1...   \n",
       "4MqyzzxYRoT13Pon6QaPsaZyRjggrpSkLK8dR                                      Interest Paid   \n",
       "5zQMLz1e7phrVm9Q9AJKheARMYV96QUBZ5kPv  CITIBANK, N.A. DEPOSIT 201124 340283588661077 ...   \n",
       "\n",
       "                                         amount          category Notes  \n",
       "id                                                                       \n",
       "a5NZR57XqzsZKr4v4Yp8TaZgK5DoOgSZBJqVP     -0.41  Dividend Earning        \n",
       "4MqyzzxYRoT13Pon6QaPsaZyRjggrpSkLK8dR    -58.42          Interest        \n",
       "5zQMLz1e7phrVm9Q9AJKheARMYV96QUBZ5kPv  50000.00          Transfer        "
      ]
     },
     "execution_count": 17,
     "metadata": {},
     "output_type": "execute_result"
    }
   ],
   "source": [
    "df['amount'] = df['amount'].astype(np.float)\n",
    "df.sample(3)"
   ]
  },
  {
   "cell_type": "markdown",
   "metadata": {},
   "source": [
    "# Train Model"
   ]
  },
  {
   "cell_type": "code",
   "execution_count": 30,
   "metadata": {},
   "outputs": [
    {
     "data": {
      "text/plain": [
       "Transfer                 55\n",
       "Home Essential           45\n",
       "Amazon                   40\n",
       "Education                30\n",
       "Dividend Earning         21\n",
       "Utilities                15\n",
       "Grocery                  14\n",
       "Interest                 13\n",
       "Walmart                  13\n",
       "Stock Investment         12\n",
       "Ignore                   11\n",
       "Dining                   10\n",
       "Transportation           10\n",
       "Home NonEssential         9\n",
       "Costco                    9\n",
       "Salary                    7\n",
       "Dividend Reinvestment     6\n",
       "Clothing                  6\n",
       "Entertainment             6\n",
       "Health                    5\n",
       "Tax                       3\n",
       "Gifts                     2\n",
       "Toys                      2\n",
       "Other                     1\n",
       "Target                    1\n",
       "Stock Earning             1\n",
       "Covered Call Premium      1\n",
       "Essential Shopping        1\n",
       "Others                    1\n",
       "Name: category, dtype: int64"
      ]
     },
     "execution_count": 30,
     "metadata": {},
     "output_type": "execute_result"
    }
   ],
   "source": [
    "from sklearn.model_selection import train_test_split\n",
    "trainDF, testDF = train_test_split(df, test_size=0.1)\n",
    "trainDF['category'].value_counts()"
   ]
  },
  {
   "cell_type": "code",
   "execution_count": 49,
   "metadata": {},
   "outputs": [],
   "source": [
    "x = Input(name='txn')\n",
    "y = Input(name='category')\n",
    "\n",
    "mapperStep = DataFrameMapperStep(\n",
    "    [\n",
    "        ('name', TfidfVectorizer(ngram_range=(1,3), max_features=500, lowercase=True, binary=False), {'alias': 'doc'}),\n",
    "        ('amount', IsDeposit(), {'alias': 'IsDeposit'})\n",
    "    ], df_out=True, sparse=False, name='mapper'\n",
    ")(x, y)\n",
    "model = NaiveBayes(name='model')(mapperStep, y)\n",
    "pipeline = Model(x, model, y)"
   ]
  },
  {
   "cell_type": "code",
   "execution_count": 50,
   "metadata": {},
   "outputs": [
    {
     "data": {
      "text/plain": [
       "Model(inputs=txn, outputs=model:0/0, targets=category, name='Model_8')"
      ]
     },
     "execution_count": 50,
     "metadata": {},
     "output_type": "execute_result"
    }
   ],
   "source": [
    "pipeline.fit(trainDF, trainDF['category'])"
   ]
  },
  {
   "cell_type": "markdown",
   "metadata": {},
   "source": [
    "# Validate Model"
   ]
  },
  {
   "cell_type": "code",
   "execution_count": 51,
   "metadata": {},
   "outputs": [
    {
     "name": "stdout",
     "output_type": "stream",
     "text": [
      "                       precision    recall  f1-score   support\n",
      "\n",
      "               Amazon       0.50      1.00      0.67         2\n",
      "             Clothing       0.00      0.00      0.00         1\n",
      "               Dining       0.00      0.00      0.00         3\n",
      "     Dividend Earning       0.33      1.00      0.50         1\n",
      "Dividend Reinvestment       0.00      0.00      0.00         2\n",
      "            Education       1.00      1.00      1.00         3\n",
      "        Entertainment       0.00      0.00      0.00         1\n",
      "              Grocery       0.50      0.50      0.50         2\n",
      "               Health       0.00      0.00      0.00         1\n",
      "       Home Essential       0.75      0.90      0.82        10\n",
      "               Ignore       0.00      0.00      0.00         2\n",
      "             Interest       1.00      1.00      1.00         1\n",
      "               Salary       1.00      1.00      1.00         1\n",
      "     Stock Investment       0.00      0.00      0.00         1\n",
      "             Transfer       0.00      0.00      0.00         0\n",
      "       Transportation       0.00      0.00      0.00         2\n",
      "            Utilities       1.00      0.67      0.80         3\n",
      "              Walmart       1.00      0.33      0.50         3\n",
      "\n",
      "             accuracy                           0.54        39\n",
      "            macro avg       0.39      0.41      0.38        39\n",
      "         weighted avg       0.53      0.54      0.51        39\n",
      "\n"
     ]
    },
    {
     "name": "stderr",
     "output_type": "stream",
     "text": [
      "/Users/riteshagrawal/anaconda3/envs/plaid/lib/python3.7/site-packages/sklearn/metrics/_classification.py:1245: UndefinedMetricWarning: Precision and F-score are ill-defined and being set to 0.0 in labels with no predicted samples. Use `zero_division` parameter to control this behavior.\n",
      "  _warn_prf(average, modifier, msg_start, len(result))\n",
      "/Users/riteshagrawal/anaconda3/envs/plaid/lib/python3.7/site-packages/sklearn/metrics/_classification.py:1245: UndefinedMetricWarning: Recall and F-score are ill-defined and being set to 0.0 in labels with no true samples. Use `zero_division` parameter to control this behavior.\n",
      "  _warn_prf(average, modifier, msg_start, len(result))\n",
      "/Users/riteshagrawal/anaconda3/envs/plaid/lib/python3.7/site-packages/sklearn/metrics/_classification.py:1245: UndefinedMetricWarning: Precision and F-score are ill-defined and being set to 0.0 in labels with no predicted samples. Use `zero_division` parameter to control this behavior.\n",
      "  _warn_prf(average, modifier, msg_start, len(result))\n",
      "/Users/riteshagrawal/anaconda3/envs/plaid/lib/python3.7/site-packages/sklearn/metrics/_classification.py:1245: UndefinedMetricWarning: Recall and F-score are ill-defined and being set to 0.0 in labels with no true samples. Use `zero_division` parameter to control this behavior.\n",
      "  _warn_prf(average, modifier, msg_start, len(result))\n",
      "/Users/riteshagrawal/anaconda3/envs/plaid/lib/python3.7/site-packages/sklearn/metrics/_classification.py:1245: UndefinedMetricWarning: Precision and F-score are ill-defined and being set to 0.0 in labels with no predicted samples. Use `zero_division` parameter to control this behavior.\n",
      "  _warn_prf(average, modifier, msg_start, len(result))\n",
      "/Users/riteshagrawal/anaconda3/envs/plaid/lib/python3.7/site-packages/sklearn/metrics/_classification.py:1245: UndefinedMetricWarning: Recall and F-score are ill-defined and being set to 0.0 in labels with no true samples. Use `zero_division` parameter to control this behavior.\n",
      "  _warn_prf(average, modifier, msg_start, len(result))\n"
     ]
    }
   ],
   "source": [
    "from sklearn.metrics import precision_recall_fscore_support, classification_report\n",
    "predicted = pipeline.predict(testDF)\n",
    "print(classification_report(testDF['category'], predicted, ))"
   ]
  },
  {
   "cell_type": "markdown",
   "metadata": {},
   "source": [
    "# save model"
   ]
  },
  {
   "cell_type": "code",
   "execution_count": 52,
   "metadata": {},
   "outputs": [
    {
     "data": {
      "text/plain": [
       "['model.pkl']"
      ]
     },
     "execution_count": 52,
     "metadata": {},
     "output_type": "execute_result"
    }
   ],
   "source": [
    "import joblib\n",
    "joblib.dump(pipeline, 'model.pkl')"
   ]
  },
  {
   "cell_type": "code",
   "execution_count": null,
   "metadata": {},
   "outputs": [],
   "source": []
  }
 ],
 "metadata": {
  "kernelspec": {
   "display_name": "Python 3",
   "language": "python",
   "name": "python3"
  },
  "language_info": {
   "codemirror_mode": {
    "name": "ipython",
    "version": 3
   },
   "file_extension": ".py",
   "mimetype": "text/x-python",
   "name": "python",
   "nbconvert_exporter": "python",
   "pygments_lexer": "ipython3",
   "version": "3.7.9"
  }
 },
 "nbformat": 4,
 "nbformat_minor": 4
}
